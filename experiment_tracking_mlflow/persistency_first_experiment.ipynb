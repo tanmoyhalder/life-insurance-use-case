{
 "cells": [
  {
   "cell_type": "markdown",
   "metadata": {},
   "source": [
    "#### Checking Python version"
   ]
  },
  {
   "cell_type": "code",
   "execution_count": 1,
   "metadata": {},
   "outputs": [
    {
     "name": "stdout",
     "output_type": "stream",
     "text": [
      "Python 3.8.8\n"
     ]
    }
   ],
   "source": [
    "!python -V"
   ]
  },
  {
   "cell_type": "markdown",
   "metadata": {},
   "source": [
    "This is the same code present in `persistency_base_model - modified data2.ipynb`. I have just copied the notebook and renamed it"
   ]
  },
  {
   "cell_type": "markdown",
   "metadata": {},
   "source": [
    "#### Importing libraries"
   ]
  },
  {
   "cell_type": "code",
   "execution_count": 2,
   "metadata": {},
   "outputs": [],
   "source": [
    "import os\n",
    "import warnings\n",
    "warnings.simplefilter(\"ignore\", UserWarning)\n",
    "\n",
    "import numpy as np\n",
    "import pandas as pd\n",
    "pd.set_option('display.max_columns', None)\n",
    "\n",
    "from datetime import datetime as dt\n",
    "\n",
    "import matplotlib.pyplot as plt\n",
    "from matplotlib.figure import Figure\n",
    "%matplotlib inline\n",
    "\n",
    "from feature_engine import encoding as ce\n",
    "from feature_engine import imputation as mdi\n",
    "from sklearn.preprocessing import StandardScaler\n",
    "from sklearn.pipeline import Pipeline\n",
    "\n",
    "from sklearn.model_selection import train_test_split\n",
    "from sklearn.linear_model import LogisticRegression\n",
    "from sklearn.ensemble import GradientBoostingClassifier\n",
    "import xgboost\n",
    "\n",
    "from hyperopt import fmin, tpe, hp, STATUS_OK, Trials\n",
    "from hyperopt.pyll import scope\n",
    "\n",
    "from sklearn.metrics import roc_auc_score, classification_report, confusion_matrix, accuracy_score\n",
    "import sklearn.metrics as metrics"
   ]
  },
  {
   "cell_type": "markdown",
   "metadata": {},
   "source": [
    "#### Importing mlflow and setting tracking uri"
   ]
  },
  {
   "cell_type": "code",
   "execution_count": 3,
   "metadata": {},
   "outputs": [
    {
     "data": {
      "text/plain": [
       "<Experiment: artifact_location='./mlruns/1', creation_time=1673260171550, experiment_id='1', last_update_time=1673260171550, lifecycle_stage='active', name='persistency-prediction-experiment', tags={}>"
      ]
     },
     "execution_count": 3,
     "metadata": {},
     "output_type": "execute_result"
    }
   ],
   "source": [
    "import mlflow\n",
    "\n",
    "mlflow.set_tracking_uri(\"sqlite:///mlflow.db\")\n",
    "mlflow.set_experiment(\"persistency-prediction-experiment\")"
   ]
  },
  {
   "cell_type": "markdown",
   "metadata": {},
   "source": [
    "#### Importing data"
   ]
  },
  {
   "cell_type": "code",
   "execution_count": 4,
   "metadata": {},
   "outputs": [],
   "source": [
    "INPUT_FILEPATH = 'data'\n",
    "INPUT_FILENAME = 'master_data_final.csv'\n",
    "\n",
    "INDEX = 'policy_number'\n",
    "DATE_COLS = ['proposal_received_date', 'policy_issue_date', 'agent_dob', 'agent_doj']\n",
    "NA_VALUES = ['', 'NA', 'N/A', 'NULL', 'null', '?', '*', '#N/A', '#VALUE!']\n",
    "DTYPE_DICT = {'zipcode': 'str', 'agent_code': 'str'} ## THese columns should be string"
   ]
  },
  {
   "cell_type": "code",
   "execution_count": 5,
   "metadata": {},
   "outputs": [],
   "source": [
    "def load_data(INPUT_FILEPATH, INPUT_FILENAME):\n",
    "    input_df = pd.read_csv(os.path.join(INPUT_FILEPATH, INPUT_FILENAME),\n",
    "                      index_col = INDEX,\n",
    "                      na_values = NA_VALUES,\n",
    "                      parse_dates = DATE_COLS,\n",
    "                      dayfirst = True,\n",
    "                      dtype = DTYPE_DICT)\n",
    "                    \n",
    "    return input_df"
   ]
  },
  {
   "cell_type": "code",
   "execution_count": 6,
   "metadata": {},
   "outputs": [],
   "source": [
    "input_df = load_data(INPUT_FILEPATH, INPUT_FILENAME)"
   ]
  },
  {
   "cell_type": "code",
   "execution_count": 7,
   "metadata": {},
   "outputs": [
    {
     "data": {
      "text/html": [
       "<div>\n",
       "<style scoped>\n",
       "    .dataframe tbody tr th:only-of-type {\n",
       "        vertical-align: middle;\n",
       "    }\n",
       "\n",
       "    .dataframe tbody tr th {\n",
       "        vertical-align: top;\n",
       "    }\n",
       "\n",
       "    .dataframe thead th {\n",
       "        text-align: right;\n",
       "    }\n",
       "</style>\n",
       "<table border=\"1\" class=\"dataframe\">\n",
       "  <thead>\n",
       "    <tr style=\"text-align: right;\">\n",
       "      <th></th>\n",
       "      <th>proposal_received_date</th>\n",
       "      <th>policy_issue_date</th>\n",
       "      <th>owner_age</th>\n",
       "      <th>owner_gender</th>\n",
       "      <th>marital_status</th>\n",
       "      <th>num_nominee</th>\n",
       "      <th>smoker</th>\n",
       "      <th>medical</th>\n",
       "      <th>education</th>\n",
       "      <th>occupation</th>\n",
       "      <th>experience</th>\n",
       "      <th>income</th>\n",
       "      <th>zipcode</th>\n",
       "      <th>county</th>\n",
       "      <th>state</th>\n",
       "      <th>negative_zipcode</th>\n",
       "      <th>family_member</th>\n",
       "      <th>existing_num_policy</th>\n",
       "      <th>has_critical_health_history</th>\n",
       "      <th>policy_term</th>\n",
       "      <th>payment_freq</th>\n",
       "      <th>annual_premium</th>\n",
       "      <th>sum_insured</th>\n",
       "      <th>agent_code</th>\n",
       "      <th>agent_dob</th>\n",
       "      <th>agent_doj</th>\n",
       "      <th>agent_status</th>\n",
       "      <th>agent_education</th>\n",
       "      <th>agent_age</th>\n",
       "      <th>agent_tenure_days</th>\n",
       "      <th>agent_persistency</th>\n",
       "      <th>last_6_month_submissions</th>\n",
       "      <th>average_premium</th>\n",
       "      <th>is_reinstated</th>\n",
       "      <th>prev_persistency</th>\n",
       "      <th>num_complaints</th>\n",
       "      <th>target_completion_perc</th>\n",
       "      <th>has_contacted_in_last_6_months</th>\n",
       "      <th>credit_score</th>\n",
       "      <th>lapse</th>\n",
       "    </tr>\n",
       "    <tr>\n",
       "      <th>policy_number</th>\n",
       "      <th></th>\n",
       "      <th></th>\n",
       "      <th></th>\n",
       "      <th></th>\n",
       "      <th></th>\n",
       "      <th></th>\n",
       "      <th></th>\n",
       "      <th></th>\n",
       "      <th></th>\n",
       "      <th></th>\n",
       "      <th></th>\n",
       "      <th></th>\n",
       "      <th></th>\n",
       "      <th></th>\n",
       "      <th></th>\n",
       "      <th></th>\n",
       "      <th></th>\n",
       "      <th></th>\n",
       "      <th></th>\n",
       "      <th></th>\n",
       "      <th></th>\n",
       "      <th></th>\n",
       "      <th></th>\n",
       "      <th></th>\n",
       "      <th></th>\n",
       "      <th></th>\n",
       "      <th></th>\n",
       "      <th></th>\n",
       "      <th></th>\n",
       "      <th></th>\n",
       "      <th></th>\n",
       "      <th></th>\n",
       "      <th></th>\n",
       "      <th></th>\n",
       "      <th></th>\n",
       "      <th></th>\n",
       "      <th></th>\n",
       "      <th></th>\n",
       "      <th></th>\n",
       "      <th></th>\n",
       "    </tr>\n",
       "  </thead>\n",
       "  <tbody>\n",
       "    <tr>\n",
       "      <th>1</th>\n",
       "      <td>2020-09-08</td>\n",
       "      <td>2020-09-08</td>\n",
       "      <td>22</td>\n",
       "      <td>Female</td>\n",
       "      <td>Single</td>\n",
       "      <td>1</td>\n",
       "      <td>No</td>\n",
       "      <td>No</td>\n",
       "      <td>Graduate</td>\n",
       "      <td>Sales</td>\n",
       "      <td>1</td>\n",
       "      <td>50000</td>\n",
       "      <td>19111</td>\n",
       "      <td>Philadelphia County</td>\n",
       "      <td>PA</td>\n",
       "      <td>0</td>\n",
       "      <td>1</td>\n",
       "      <td>0</td>\n",
       "      <td>0</td>\n",
       "      <td>25</td>\n",
       "      <td>Annually</td>\n",
       "      <td>377</td>\n",
       "      <td>580019</td>\n",
       "      <td>60503862</td>\n",
       "      <td>1997-07-03</td>\n",
       "      <td>2020-08-31</td>\n",
       "      <td>Active</td>\n",
       "      <td>Graduate</td>\n",
       "      <td>23</td>\n",
       "      <td>8</td>\n",
       "      <td>0.76</td>\n",
       "      <td>35</td>\n",
       "      <td>377</td>\n",
       "      <td>1</td>\n",
       "      <td>0.67</td>\n",
       "      <td>1</td>\n",
       "      <td>0.98</td>\n",
       "      <td>1</td>\n",
       "      <td>762</td>\n",
       "      <td>0</td>\n",
       "    </tr>\n",
       "    <tr>\n",
       "      <th>2</th>\n",
       "      <td>2020-08-24</td>\n",
       "      <td>2020-08-26</td>\n",
       "      <td>33</td>\n",
       "      <td>Female</td>\n",
       "      <td>Single</td>\n",
       "      <td>1</td>\n",
       "      <td>No</td>\n",
       "      <td>No</td>\n",
       "      <td>High School</td>\n",
       "      <td>Housewife</td>\n",
       "      <td>0</td>\n",
       "      <td>0</td>\n",
       "      <td>7764</td>\n",
       "      <td>Monmouth County</td>\n",
       "      <td>NJ</td>\n",
       "      <td>0</td>\n",
       "      <td>1</td>\n",
       "      <td>0</td>\n",
       "      <td>0</td>\n",
       "      <td>20</td>\n",
       "      <td>Quaterly</td>\n",
       "      <td>671</td>\n",
       "      <td>829002</td>\n",
       "      <td>60422713</td>\n",
       "      <td>1980-03-28</td>\n",
       "      <td>2018-05-17</td>\n",
       "      <td>Active</td>\n",
       "      <td>High School</td>\n",
       "      <td>40</td>\n",
       "      <td>830</td>\n",
       "      <td>0.87</td>\n",
       "      <td>54</td>\n",
       "      <td>671</td>\n",
       "      <td>0</td>\n",
       "      <td>0.00</td>\n",
       "      <td>4</td>\n",
       "      <td>0.90</td>\n",
       "      <td>1</td>\n",
       "      <td>794</td>\n",
       "      <td>0</td>\n",
       "    </tr>\n",
       "    <tr>\n",
       "      <th>3</th>\n",
       "      <td>2020-08-24</td>\n",
       "      <td>2020-08-24</td>\n",
       "      <td>29</td>\n",
       "      <td>Female</td>\n",
       "      <td>Married</td>\n",
       "      <td>1</td>\n",
       "      <td>No</td>\n",
       "      <td>No</td>\n",
       "      <td>Lt High School</td>\n",
       "      <td>Other Service</td>\n",
       "      <td>13</td>\n",
       "      <td>100000</td>\n",
       "      <td>26335</td>\n",
       "      <td>Braxton County</td>\n",
       "      <td>WV</td>\n",
       "      <td>0</td>\n",
       "      <td>2</td>\n",
       "      <td>1</td>\n",
       "      <td>0</td>\n",
       "      <td>10</td>\n",
       "      <td>Annually</td>\n",
       "      <td>210</td>\n",
       "      <td>659027</td>\n",
       "      <td>60450939</td>\n",
       "      <td>1978-06-25</td>\n",
       "      <td>2019-02-25</td>\n",
       "      <td>Inactive</td>\n",
       "      <td>Some College</td>\n",
       "      <td>42</td>\n",
       "      <td>546</td>\n",
       "      <td>0.93</td>\n",
       "      <td>0</td>\n",
       "      <td>579</td>\n",
       "      <td>0</td>\n",
       "      <td>0.00</td>\n",
       "      <td>8</td>\n",
       "      <td>0.93</td>\n",
       "      <td>1</td>\n",
       "      <td>800</td>\n",
       "      <td>1</td>\n",
       "    </tr>\n",
       "    <tr>\n",
       "      <th>4</th>\n",
       "      <td>2020-08-24</td>\n",
       "      <td>2020-08-24</td>\n",
       "      <td>57</td>\n",
       "      <td>Male</td>\n",
       "      <td>Divorced</td>\n",
       "      <td>1</td>\n",
       "      <td>No</td>\n",
       "      <td>Yes</td>\n",
       "      <td>Graduate</td>\n",
       "      <td>Military</td>\n",
       "      <td>36</td>\n",
       "      <td>242286</td>\n",
       "      <td>98241</td>\n",
       "      <td>Skagit County</td>\n",
       "      <td>WA</td>\n",
       "      <td>0</td>\n",
       "      <td>3</td>\n",
       "      <td>0</td>\n",
       "      <td>0</td>\n",
       "      <td>15</td>\n",
       "      <td>Annually</td>\n",
       "      <td>1863</td>\n",
       "      <td>612890</td>\n",
       "      <td>60394377</td>\n",
       "      <td>1993-05-05</td>\n",
       "      <td>2017-07-10</td>\n",
       "      <td>Active</td>\n",
       "      <td>Graduate</td>\n",
       "      <td>27</td>\n",
       "      <td>1141</td>\n",
       "      <td>0.78</td>\n",
       "      <td>29</td>\n",
       "      <td>1333</td>\n",
       "      <td>1</td>\n",
       "      <td>0.72</td>\n",
       "      <td>8</td>\n",
       "      <td>0.95</td>\n",
       "      <td>1</td>\n",
       "      <td>850</td>\n",
       "      <td>0</td>\n",
       "    </tr>\n",
       "    <tr>\n",
       "      <th>5</th>\n",
       "      <td>2020-08-24</td>\n",
       "      <td>2020-08-25</td>\n",
       "      <td>32</td>\n",
       "      <td>Female</td>\n",
       "      <td>Divorced</td>\n",
       "      <td>1</td>\n",
       "      <td>No</td>\n",
       "      <td>No</td>\n",
       "      <td>Post Graduate</td>\n",
       "      <td>Teacher</td>\n",
       "      <td>8</td>\n",
       "      <td>20434</td>\n",
       "      <td>78160</td>\n",
       "      <td>Wilson County</td>\n",
       "      <td>TX</td>\n",
       "      <td>0</td>\n",
       "      <td>1</td>\n",
       "      <td>1</td>\n",
       "      <td>0</td>\n",
       "      <td>20</td>\n",
       "      <td>Annually</td>\n",
       "      <td>730</td>\n",
       "      <td>879549</td>\n",
       "      <td>60491531</td>\n",
       "      <td>1967-12-05</td>\n",
       "      <td>2020-03-20</td>\n",
       "      <td>Active</td>\n",
       "      <td>Graduate</td>\n",
       "      <td>53</td>\n",
       "      <td>157</td>\n",
       "      <td>0.89</td>\n",
       "      <td>44</td>\n",
       "      <td>652</td>\n",
       "      <td>0</td>\n",
       "      <td>0.00</td>\n",
       "      <td>8</td>\n",
       "      <td>0.89</td>\n",
       "      <td>0</td>\n",
       "      <td>745</td>\n",
       "      <td>1</td>\n",
       "    </tr>\n",
       "    <tr>\n",
       "      <th>6</th>\n",
       "      <td>2020-08-24</td>\n",
       "      <td>2020-08-29</td>\n",
       "      <td>27</td>\n",
       "      <td>Male</td>\n",
       "      <td>Single</td>\n",
       "      <td>1</td>\n",
       "      <td>Yes</td>\n",
       "      <td>Yes</td>\n",
       "      <td>Graduate</td>\n",
       "      <td>Accountant</td>\n",
       "      <td>6</td>\n",
       "      <td>65000</td>\n",
       "      <td>15938</td>\n",
       "      <td>Cambria County</td>\n",
       "      <td>PA</td>\n",
       "      <td>0</td>\n",
       "      <td>1</td>\n",
       "      <td>0</td>\n",
       "      <td>0</td>\n",
       "      <td>20</td>\n",
       "      <td>Annually</td>\n",
       "      <td>941</td>\n",
       "      <td>862056</td>\n",
       "      <td>60408239</td>\n",
       "      <td>1986-06-05</td>\n",
       "      <td>2017-11-30</td>\n",
       "      <td>Active</td>\n",
       "      <td>Graduate</td>\n",
       "      <td>34</td>\n",
       "      <td>998</td>\n",
       "      <td>0.75</td>\n",
       "      <td>26</td>\n",
       "      <td>1890</td>\n",
       "      <td>0</td>\n",
       "      <td>0.00</td>\n",
       "      <td>8</td>\n",
       "      <td>0.83</td>\n",
       "      <td>0</td>\n",
       "      <td>720</td>\n",
       "      <td>0</td>\n",
       "    </tr>\n",
       "    <tr>\n",
       "      <th>7</th>\n",
       "      <td>2020-08-24</td>\n",
       "      <td>2020-08-24</td>\n",
       "      <td>39</td>\n",
       "      <td>Male</td>\n",
       "      <td>Married</td>\n",
       "      <td>1</td>\n",
       "      <td>No</td>\n",
       "      <td>No</td>\n",
       "      <td>High School</td>\n",
       "      <td>Govt Service</td>\n",
       "      <td>21</td>\n",
       "      <td>116539</td>\n",
       "      <td>28707</td>\n",
       "      <td>Jackson County</td>\n",
       "      <td>NC</td>\n",
       "      <td>0</td>\n",
       "      <td>3</td>\n",
       "      <td>0</td>\n",
       "      <td>1</td>\n",
       "      <td>10</td>\n",
       "      <td>Annually</td>\n",
       "      <td>331</td>\n",
       "      <td>529537</td>\n",
       "      <td>60476244</td>\n",
       "      <td>1984-11-03</td>\n",
       "      <td>2019-10-22</td>\n",
       "      <td>Active</td>\n",
       "      <td>Lt High School</td>\n",
       "      <td>36</td>\n",
       "      <td>307</td>\n",
       "      <td>0.81</td>\n",
       "      <td>45</td>\n",
       "      <td>926</td>\n",
       "      <td>0</td>\n",
       "      <td>0.00</td>\n",
       "      <td>13</td>\n",
       "      <td>0.92</td>\n",
       "      <td>0</td>\n",
       "      <td>686</td>\n",
       "      <td>0</td>\n",
       "    </tr>\n",
       "    <tr>\n",
       "      <th>8</th>\n",
       "      <td>2020-08-24</td>\n",
       "      <td>2020-09-30</td>\n",
       "      <td>39</td>\n",
       "      <td>Female</td>\n",
       "      <td>Widowed</td>\n",
       "      <td>1</td>\n",
       "      <td>Yes</td>\n",
       "      <td>Yes</td>\n",
       "      <td>Graduate</td>\n",
       "      <td>Shop Owner</td>\n",
       "      <td>18</td>\n",
       "      <td>56924</td>\n",
       "      <td>60129</td>\n",
       "      <td>DeKalb County</td>\n",
       "      <td>IL</td>\n",
       "      <td>0</td>\n",
       "      <td>1</td>\n",
       "      <td>0</td>\n",
       "      <td>1</td>\n",
       "      <td>15</td>\n",
       "      <td>Monthly</td>\n",
       "      <td>566</td>\n",
       "      <td>501114</td>\n",
       "      <td>60237645</td>\n",
       "      <td>NaT</td>\n",
       "      <td>2012-08-23</td>\n",
       "      <td>Active</td>\n",
       "      <td>High School</td>\n",
       "      <td>36</td>\n",
       "      <td>2923</td>\n",
       "      <td>0.98</td>\n",
       "      <td>60</td>\n",
       "      <td>1119</td>\n",
       "      <td>0</td>\n",
       "      <td>0.00</td>\n",
       "      <td>8</td>\n",
       "      <td>0.95</td>\n",
       "      <td>0</td>\n",
       "      <td>838</td>\n",
       "      <td>0</td>\n",
       "    </tr>\n",
       "    <tr>\n",
       "      <th>9</th>\n",
       "      <td>2020-08-24</td>\n",
       "      <td>2020-08-26</td>\n",
       "      <td>28</td>\n",
       "      <td>Male</td>\n",
       "      <td>Married</td>\n",
       "      <td>1</td>\n",
       "      <td>No</td>\n",
       "      <td>No</td>\n",
       "      <td>Graduate</td>\n",
       "      <td>IT Service</td>\n",
       "      <td>7</td>\n",
       "      <td>64762</td>\n",
       "      <td>33759</td>\n",
       "      <td>Pinellas County</td>\n",
       "      <td>FL</td>\n",
       "      <td>0</td>\n",
       "      <td>3</td>\n",
       "      <td>0</td>\n",
       "      <td>0</td>\n",
       "      <td>25</td>\n",
       "      <td>Annually</td>\n",
       "      <td>477</td>\n",
       "      <td>465743</td>\n",
       "      <td>60221480</td>\n",
       "      <td>1964-10-26</td>\n",
       "      <td>2011-10-13</td>\n",
       "      <td>Active</td>\n",
       "      <td>Lt High School</td>\n",
       "      <td>56</td>\n",
       "      <td>3238</td>\n",
       "      <td>0.70</td>\n",
       "      <td>40</td>\n",
       "      <td>842</td>\n",
       "      <td>0</td>\n",
       "      <td>0.00</td>\n",
       "      <td>27</td>\n",
       "      <td>0.88</td>\n",
       "      <td>1</td>\n",
       "      <td>773</td>\n",
       "      <td>1</td>\n",
       "    </tr>\n",
       "    <tr>\n",
       "      <th>10</th>\n",
       "      <td>2020-09-29</td>\n",
       "      <td>2020-09-30</td>\n",
       "      <td>28</td>\n",
       "      <td>Male</td>\n",
       "      <td>Single</td>\n",
       "      <td>1</td>\n",
       "      <td>No</td>\n",
       "      <td>No</td>\n",
       "      <td>Graduate</td>\n",
       "      <td>Shop Owner</td>\n",
       "      <td>7</td>\n",
       "      <td>50000</td>\n",
       "      <td>52211</td>\n",
       "      <td>Poweshiek County</td>\n",
       "      <td>IA</td>\n",
       "      <td>0</td>\n",
       "      <td>1</td>\n",
       "      <td>0</td>\n",
       "      <td>0</td>\n",
       "      <td>10</td>\n",
       "      <td>Quaterly</td>\n",
       "      <td>163</td>\n",
       "      <td>482589</td>\n",
       "      <td>60410983</td>\n",
       "      <td>1983-03-01</td>\n",
       "      <td>2017-12-27</td>\n",
       "      <td>Active</td>\n",
       "      <td>High School</td>\n",
       "      <td>38</td>\n",
       "      <td>1007</td>\n",
       "      <td>0.72</td>\n",
       "      <td>43</td>\n",
       "      <td>637</td>\n",
       "      <td>0</td>\n",
       "      <td>0.00</td>\n",
       "      <td>7</td>\n",
       "      <td>0.97</td>\n",
       "      <td>1</td>\n",
       "      <td>796</td>\n",
       "      <td>0</td>\n",
       "    </tr>\n",
       "  </tbody>\n",
       "</table>\n",
       "</div>"
      ],
      "text/plain": [
       "              proposal_received_date policy_issue_date  owner_age  \\\n",
       "policy_number                                                       \n",
       "1                         2020-09-08        2020-09-08         22   \n",
       "2                         2020-08-24        2020-08-26         33   \n",
       "3                         2020-08-24        2020-08-24         29   \n",
       "4                         2020-08-24        2020-08-24         57   \n",
       "5                         2020-08-24        2020-08-25         32   \n",
       "6                         2020-08-24        2020-08-29         27   \n",
       "7                         2020-08-24        2020-08-24         39   \n",
       "8                         2020-08-24        2020-09-30         39   \n",
       "9                         2020-08-24        2020-08-26         28   \n",
       "10                        2020-09-29        2020-09-30         28   \n",
       "\n",
       "              owner_gender marital_status  num_nominee smoker medical  \\\n",
       "policy_number                                                           \n",
       "1                   Female         Single            1     No      No   \n",
       "2                   Female         Single            1     No      No   \n",
       "3                   Female        Married            1     No      No   \n",
       "4                     Male       Divorced            1     No     Yes   \n",
       "5                   Female       Divorced            1     No      No   \n",
       "6                     Male         Single            1    Yes     Yes   \n",
       "7                     Male        Married            1     No      No   \n",
       "8                   Female        Widowed            1    Yes     Yes   \n",
       "9                     Male        Married            1     No      No   \n",
       "10                    Male         Single            1     No      No   \n",
       "\n",
       "                    education     occupation  experience  income zipcode  \\\n",
       "policy_number                                                              \n",
       "1                    Graduate          Sales           1   50000   19111   \n",
       "2                 High School      Housewife           0       0    7764   \n",
       "3              Lt High School  Other Service          13  100000   26335   \n",
       "4                    Graduate       Military          36  242286   98241   \n",
       "5               Post Graduate        Teacher           8   20434   78160   \n",
       "6                    Graduate     Accountant           6   65000   15938   \n",
       "7                 High School   Govt Service          21  116539   28707   \n",
       "8                    Graduate     Shop Owner          18   56924   60129   \n",
       "9                    Graduate     IT Service           7   64762   33759   \n",
       "10                   Graduate     Shop Owner           7   50000   52211   \n",
       "\n",
       "                            county state  negative_zipcode  family_member  \\\n",
       "policy_number                                                               \n",
       "1              Philadelphia County    PA                 0              1   \n",
       "2                  Monmouth County    NJ                 0              1   \n",
       "3                   Braxton County    WV                 0              2   \n",
       "4                    Skagit County    WA                 0              3   \n",
       "5                    Wilson County    TX                 0              1   \n",
       "6                   Cambria County    PA                 0              1   \n",
       "7                   Jackson County    NC                 0              3   \n",
       "8                    DeKalb County    IL                 0              1   \n",
       "9                  Pinellas County    FL                 0              3   \n",
       "10                Poweshiek County    IA                 0              1   \n",
       "\n",
       "               existing_num_policy  has_critical_health_history  policy_term  \\\n",
       "policy_number                                                                  \n",
       "1                                0                            0           25   \n",
       "2                                0                            0           20   \n",
       "3                                1                            0           10   \n",
       "4                                0                            0           15   \n",
       "5                                1                            0           20   \n",
       "6                                0                            0           20   \n",
       "7                                0                            1           10   \n",
       "8                                0                            1           15   \n",
       "9                                0                            0           25   \n",
       "10                               0                            0           10   \n",
       "\n",
       "              payment_freq  annual_premium  sum_insured agent_code  agent_dob  \\\n",
       "policy_number                                                                   \n",
       "1                 Annually             377       580019   60503862 1997-07-03   \n",
       "2                 Quaterly             671       829002   60422713 1980-03-28   \n",
       "3                 Annually             210       659027   60450939 1978-06-25   \n",
       "4                 Annually            1863       612890   60394377 1993-05-05   \n",
       "5                 Annually             730       879549   60491531 1967-12-05   \n",
       "6                 Annually             941       862056   60408239 1986-06-05   \n",
       "7                 Annually             331       529537   60476244 1984-11-03   \n",
       "8                  Monthly             566       501114   60237645        NaT   \n",
       "9                 Annually             477       465743   60221480 1964-10-26   \n",
       "10                Quaterly             163       482589   60410983 1983-03-01   \n",
       "\n",
       "               agent_doj agent_status agent_education  agent_age  \\\n",
       "policy_number                                                      \n",
       "1             2020-08-31       Active        Graduate         23   \n",
       "2             2018-05-17       Active     High School         40   \n",
       "3             2019-02-25     Inactive    Some College         42   \n",
       "4             2017-07-10       Active        Graduate         27   \n",
       "5             2020-03-20       Active        Graduate         53   \n",
       "6             2017-11-30       Active        Graduate         34   \n",
       "7             2019-10-22       Active  Lt High School         36   \n",
       "8             2012-08-23       Active     High School         36   \n",
       "9             2011-10-13       Active  Lt High School         56   \n",
       "10            2017-12-27       Active     High School         38   \n",
       "\n",
       "               agent_tenure_days  agent_persistency  last_6_month_submissions  \\\n",
       "policy_number                                                                   \n",
       "1                              8               0.76                        35   \n",
       "2                            830               0.87                        54   \n",
       "3                            546               0.93                         0   \n",
       "4                           1141               0.78                        29   \n",
       "5                            157               0.89                        44   \n",
       "6                            998               0.75                        26   \n",
       "7                            307               0.81                        45   \n",
       "8                           2923               0.98                        60   \n",
       "9                           3238               0.70                        40   \n",
       "10                          1007               0.72                        43   \n",
       "\n",
       "               average_premium  is_reinstated  prev_persistency  \\\n",
       "policy_number                                                     \n",
       "1                          377              1              0.67   \n",
       "2                          671              0              0.00   \n",
       "3                          579              0              0.00   \n",
       "4                         1333              1              0.72   \n",
       "5                          652              0              0.00   \n",
       "6                         1890              0              0.00   \n",
       "7                          926              0              0.00   \n",
       "8                         1119              0              0.00   \n",
       "9                          842              0              0.00   \n",
       "10                         637              0              0.00   \n",
       "\n",
       "               num_complaints  target_completion_perc  \\\n",
       "policy_number                                           \n",
       "1                           1                    0.98   \n",
       "2                           4                    0.90   \n",
       "3                           8                    0.93   \n",
       "4                           8                    0.95   \n",
       "5                           8                    0.89   \n",
       "6                           8                    0.83   \n",
       "7                          13                    0.92   \n",
       "8                           8                    0.95   \n",
       "9                          27                    0.88   \n",
       "10                          7                    0.97   \n",
       "\n",
       "               has_contacted_in_last_6_months  credit_score  lapse  \n",
       "policy_number                                                       \n",
       "1                                           1           762      0  \n",
       "2                                           1           794      0  \n",
       "3                                           1           800      1  \n",
       "4                                           1           850      0  \n",
       "5                                           0           745      1  \n",
       "6                                           0           720      0  \n",
       "7                                           0           686      0  \n",
       "8                                           0           838      0  \n",
       "9                                           1           773      1  \n",
       "10                                          1           796      0  "
      ]
     },
     "execution_count": 7,
     "metadata": {},
     "output_type": "execute_result"
    }
   ],
   "source": [
    "input_df.head(10)"
   ]
  },
  {
   "cell_type": "markdown",
   "metadata": {},
   "source": [
    "#### Checking data info"
   ]
  },
  {
   "cell_type": "code",
   "execution_count": 8,
   "metadata": {},
   "outputs": [
    {
     "name": "stdout",
     "output_type": "stream",
     "text": [
      "<class 'pandas.core.frame.DataFrame'>\n",
      "Int64Index: 44948 entries, 1 to 44948\n",
      "Data columns (total 40 columns):\n",
      " #   Column                          Non-Null Count  Dtype         \n",
      "---  ------                          --------------  -----         \n",
      " 0   proposal_received_date          44948 non-null  datetime64[ns]\n",
      " 1   policy_issue_date               44948 non-null  datetime64[ns]\n",
      " 2   owner_age                       44948 non-null  int64         \n",
      " 3   owner_gender                    44948 non-null  object        \n",
      " 4   marital_status                  44948 non-null  object        \n",
      " 5   num_nominee                     44948 non-null  int64         \n",
      " 6   smoker                          44948 non-null  object        \n",
      " 7   medical                         44948 non-null  object        \n",
      " 8   education                       44948 non-null  object        \n",
      " 9   occupation                      44948 non-null  object        \n",
      " 10  experience                      44948 non-null  int64         \n",
      " 11  income                          44948 non-null  int64         \n",
      " 12  zipcode                         44948 non-null  object        \n",
      " 13  county                          44948 non-null  object        \n",
      " 14  state                           44948 non-null  object        \n",
      " 15  negative_zipcode                44948 non-null  int64         \n",
      " 16  family_member                   44948 non-null  int64         \n",
      " 17  existing_num_policy             44948 non-null  int64         \n",
      " 18  has_critical_health_history     44948 non-null  int64         \n",
      " 19  policy_term                     44948 non-null  int64         \n",
      " 20  payment_freq                    44948 non-null  object        \n",
      " 21  annual_premium                  44948 non-null  int64         \n",
      " 22  sum_insured                     44948 non-null  int64         \n",
      " 23  agent_code                      44948 non-null  object        \n",
      " 24  agent_dob                       35994 non-null  datetime64[ns]\n",
      " 25  agent_doj                       44948 non-null  datetime64[ns]\n",
      " 26  agent_status                    44948 non-null  object        \n",
      " 27  agent_education                 44948 non-null  object        \n",
      " 28  agent_age                       44948 non-null  int64         \n",
      " 29  agent_tenure_days               44948 non-null  int64         \n",
      " 30  agent_persistency               44831 non-null  float64       \n",
      " 31  last_6_month_submissions        44948 non-null  int64         \n",
      " 32  average_premium                 44948 non-null  int64         \n",
      " 33  is_reinstated                   44948 non-null  int64         \n",
      " 34  prev_persistency                44948 non-null  float64       \n",
      " 35  num_complaints                  44948 non-null  int64         \n",
      " 36  target_completion_perc          44948 non-null  float64       \n",
      " 37  has_contacted_in_last_6_months  44948 non-null  int64         \n",
      " 38  credit_score                    44948 non-null  int64         \n",
      " 39  lapse                           44948 non-null  int64         \n",
      "dtypes: datetime64[ns](4), float64(3), int64(20), object(13)\n",
      "memory usage: 14.1+ MB\n"
     ]
    }
   ],
   "source": [
    "input_df.info()"
   ]
  },
  {
   "cell_type": "code",
   "execution_count": 9,
   "metadata": {},
   "outputs": [
    {
     "data": {
      "text/plain": [
       "Index(['proposal_received_date', 'policy_issue_date', 'owner_age',\n",
       "       'owner_gender', 'marital_status', 'num_nominee', 'smoker', 'medical',\n",
       "       'education', 'occupation', 'experience', 'income', 'zipcode', 'county',\n",
       "       'state', 'negative_zipcode', 'family_member', 'existing_num_policy',\n",
       "       'has_critical_health_history', 'policy_term', 'payment_freq',\n",
       "       'annual_premium', 'sum_insured', 'agent_code', 'agent_dob', 'agent_doj',\n",
       "       'agent_status', 'agent_education', 'agent_age', 'agent_tenure_days',\n",
       "       'agent_persistency', 'last_6_month_submissions', 'average_premium',\n",
       "       'is_reinstated', 'prev_persistency', 'num_complaints',\n",
       "       'target_completion_perc', 'has_contacted_in_last_6_months',\n",
       "       'credit_score', 'lapse'],\n",
       "      dtype='object')"
      ]
     },
     "execution_count": 9,
     "metadata": {},
     "output_type": "execute_result"
    }
   ],
   "source": [
    "input_df.columns"
   ]
  },
  {
   "cell_type": "markdown",
   "metadata": {},
   "source": [
    "#### Target variable distribution"
   ]
  },
  {
   "cell_type": "code",
   "execution_count": 10,
   "metadata": {},
   "outputs": [
    {
     "data": {
      "text/plain": [
       "0    58.338525\n",
       "1    41.661475\n",
       "Name: lapse, dtype: float64"
      ]
     },
     "execution_count": 10,
     "metadata": {},
     "output_type": "execute_result"
    }
   ],
   "source": [
    "input_df['lapse'].value_counts()/len(input_df)*100"
   ]
  },
  {
   "cell_type": "markdown",
   "metadata": {},
   "source": [
    "#### Creating feature: time_to_issue"
   ]
  },
  {
   "cell_type": "code",
   "execution_count": 11,
   "metadata": {},
   "outputs": [],
   "source": [
    "def create_time_to_issue(df) -> pd.DataFrame:\n",
    "    df['time_to_issue'] = (df['policy_issue_date'] - df['proposal_received_date']).dt.days\n",
    "\n",
    "    return df"
   ]
  },
  {
   "cell_type": "code",
   "execution_count": 12,
   "metadata": {},
   "outputs": [
    {
     "data": {
      "text/plain": [
       "count    44948.000000\n",
       "mean         5.640451\n",
       "std         11.153843\n",
       "min          0.000000\n",
       "25%          0.000000\n",
       "50%          1.000000\n",
       "75%          7.000000\n",
       "max        494.000000\n",
       "Name: time_to_issue, dtype: float64"
      ]
     },
     "execution_count": 12,
     "metadata": {},
     "output_type": "execute_result"
    }
   ],
   "source": [
    "input_df = create_time_to_issue(input_df)\n",
    "input_df['time_to_issue'].describe()"
   ]
  },
  {
   "cell_type": "markdown",
   "metadata": {},
   "source": [
    "#### Creating feature: prem_to_income_ratio"
   ]
  },
  {
   "cell_type": "code",
   "execution_count": 13,
   "metadata": {},
   "outputs": [],
   "source": [
    "def create_prem_to_income_ratio(df) -> pd.DataFrame:\n",
    "    df['prem_to_income_ratio'] = np.where(df['income'] == 0, 0, (df['annual_premium']/df['income']))\n",
    "\n",
    "    return df"
   ]
  },
  {
   "cell_type": "code",
   "execution_count": 14,
   "metadata": {},
   "outputs": [
    {
     "data": {
      "text/plain": [
       "count    44948.000000\n",
       "mean         0.016824\n",
       "std          0.025457\n",
       "min          0.000000\n",
       "25%          0.004170\n",
       "50%          0.008553\n",
       "75%          0.017717\n",
       "max          0.200000\n",
       "Name: prem_to_income_ratio, dtype: float64"
      ]
     },
     "execution_count": 14,
     "metadata": {},
     "output_type": "execute_result"
    }
   ],
   "source": [
    "input_df = create_prem_to_income_ratio(input_df)\n",
    "input_df['prem_to_income_ratio'].describe()"
   ]
  },
  {
   "cell_type": "markdown",
   "metadata": {},
   "source": [
    "## --------------------------------------------------------------------------------------------------------------------------------\n",
    "\n",
    "The objective of this exercise is to create a demoable solution (maybe not the best possible one, given the augmented data). Hence, we are not going to deep dive into EDA and hypothesis testing. Instead, we will focus on building the ML product using different technologies. \n",
    "\n",
    "## --------------------------------------------------------------------------------------------------------------------------------"
   ]
  },
  {
   "cell_type": "markdown",
   "metadata": {},
   "source": [
    "#### Columns to remove"
   ]
  },
  {
   "cell_type": "code",
   "execution_count": 15,
   "metadata": {},
   "outputs": [],
   "source": [
    "COLS_TO_REM = ['proposal_received_date','policy_issue_date', 'zipcode', 'county', 'state', 'agent_code', 'agent_dob', 'agent_doj']"
   ]
  },
  {
   "cell_type": "markdown",
   "metadata": {},
   "source": [
    "- `proposal_received_date`: Derived `time_to_issue` from this column\n",
    "- `policy_issue_date`: Derived `time_to_issue` from this column\n",
    "- `zipcode`: Too many values, high cardinality\n",
    "- `county`: Too many values, high cardinality\n",
    "- `state`: Too many values, high cardinality\n",
    "- `agent_code`: Id column\n",
    "- `agent_dob`: Derived `agent_age` from this column\n",
    "- `agent_doj`: Derived `agent_tenure_days` from this column"
   ]
  },
  {
   "cell_type": "code",
   "execution_count": 16,
   "metadata": {},
   "outputs": [],
   "source": [
    "def filter_df(df, COLS_TO_REM) -> pd.DataFrame:\n",
    "    df = df.drop(COLS_TO_REM, axis = 1)\n",
    "    return df"
   ]
  },
  {
   "cell_type": "code",
   "execution_count": 18,
   "metadata": {},
   "outputs": [
    {
     "data": {
      "text/plain": [
       "(44948, 34)"
      ]
     },
     "execution_count": 18,
     "metadata": {},
     "output_type": "execute_result"
    }
   ],
   "source": [
    "temp_df = filter_df(input_df, COLS_TO_REM)\n",
    "temp_df.shape"
   ]
  },
  {
   "cell_type": "code",
   "execution_count": 19,
   "metadata": {},
   "outputs": [
    {
     "data": {
      "text/plain": [
       "(44948, 42)"
      ]
     },
     "execution_count": 19,
     "metadata": {},
     "output_type": "execute_result"
    }
   ],
   "source": [
    "input_df.shape"
   ]
  },
  {
   "cell_type": "markdown",
   "metadata": {},
   "source": [
    "## Feature Engineering Steps"
   ]
  },
  {
   "cell_type": "markdown",
   "metadata": {},
   "source": [
    "#### Missing Value Imputation"
   ]
  },
  {
   "cell_type": "markdown",
   "metadata": {},
   "source": [
    "We have only one column where missing value is present. `agent_persistency`. Impute missing value with median"
   ]
  },
  {
   "cell_type": "code",
   "execution_count": 20,
   "metadata": {},
   "outputs": [
    {
     "name": "stdout",
     "output_type": "stream",
     "text": [
      "Total missing percentage of column agent_persistency is: 0.26% \n"
     ]
    }
   ],
   "source": [
    "agent_persistency_missing_perc = round(temp_df['agent_persistency'].isnull().mean()*100,2)\n",
    "\n",
    "print(f'Total missing percentage of column agent_persistency is: {agent_persistency_missing_perc}% ')"
   ]
  },
  {
   "cell_type": "code",
   "execution_count": 21,
   "metadata": {},
   "outputs": [],
   "source": [
    "MISSING_COL = ['agent_persistency']"
   ]
  },
  {
   "cell_type": "markdown",
   "metadata": {},
   "source": [
    "#### One-Hot Encoding"
   ]
  },
  {
   "cell_type": "code",
   "execution_count": 22,
   "metadata": {},
   "outputs": [],
   "source": [
    "ONE_HOT_COLS = ['owner_gender', 'marital_status', 'smoker', 'medical', 'education', 'occupation', 'payment_freq',  \n",
    "                'agent_status', 'agent_education']"
   ]
  },
  {
   "cell_type": "markdown",
   "metadata": {},
   "source": [
    "#### Normalisation\n",
    "\n",
    "We will normalise the columns using `StandardScaler` because we have values at different scale"
   ]
  },
  {
   "cell_type": "markdown",
   "metadata": {},
   "source": [
    "#### Creating train test split"
   ]
  },
  {
   "cell_type": "code",
   "execution_count": 23,
   "metadata": {},
   "outputs": [
    {
     "data": {
      "text/plain": [
       "Index(['owner_age', 'owner_gender', 'marital_status', 'num_nominee', 'smoker',\n",
       "       'medical', 'education', 'occupation', 'experience', 'income',\n",
       "       'negative_zipcode', 'family_member', 'existing_num_policy',\n",
       "       'has_critical_health_history', 'policy_term', 'payment_freq',\n",
       "       'annual_premium', 'sum_insured', 'agent_status', 'agent_education',\n",
       "       'agent_age', 'agent_tenure_days', 'agent_persistency',\n",
       "       'last_6_month_submissions', 'average_premium', 'is_reinstated',\n",
       "       'prev_persistency', 'num_complaints', 'target_completion_perc',\n",
       "       'has_contacted_in_last_6_months', 'credit_score', 'lapse',\n",
       "       'time_to_issue', 'prem_to_income_ratio'],\n",
       "      dtype='object')"
      ]
     },
     "execution_count": 23,
     "metadata": {},
     "output_type": "execute_result"
    }
   ],
   "source": [
    "temp_df.columns"
   ]
  },
  {
   "cell_type": "code",
   "execution_count": 24,
   "metadata": {},
   "outputs": [],
   "source": [
    "FEATURES = ['owner_age', 'owner_gender', 'marital_status', 'num_nominee', 'smoker',\n",
    "       'medical', 'education', 'occupation', 'experience', 'income',\n",
    "       'negative_zipcode', 'family_member', 'existing_num_policy',\n",
    "       'has_critical_health_history', 'policy_term', 'payment_freq',\n",
    "       'annual_premium', 'sum_insured', 'agent_status', 'agent_education',\n",
    "       'agent_age', 'agent_tenure_days', 'agent_persistency',\n",
    "       'last_6_month_submissions', 'average_premium', 'is_reinstated',\n",
    "       'prev_persistency', 'num_complaints', 'target_completion_perc',\n",
    "       'has_contacted_in_last_6_months', 'credit_score',\n",
    "       'time_to_issue', 'prem_to_income_ratio']\n",
    "\n",
    "TARGET = 'lapse'"
   ]
  },
  {
   "cell_type": "code",
   "execution_count": 25,
   "metadata": {},
   "outputs": [
    {
     "data": {
      "text/plain": [
       "((31463, 33), (13485, 33))"
      ]
     },
     "execution_count": 25,
     "metadata": {},
     "output_type": "execute_result"
    }
   ],
   "source": [
    "X_train, X_test, y_train, y_test = train_test_split(temp_df[FEATURES],\n",
    "                                                    temp_df[TARGET],\n",
    "                                                    test_size=0.3,\n",
    "                                                    random_state = 786, \n",
    "                                                    shuffle = True,\n",
    "                                                    stratify = temp_df[TARGET])\n",
    "\n",
    "X_train.shape, X_test.shape"
   ]
  },
  {
   "cell_type": "markdown",
   "metadata": {},
   "source": [
    "#### Creating data transformation pipeline"
   ]
  },
  {
   "cell_type": "code",
   "execution_count": 26,
   "metadata": {},
   "outputs": [],
   "source": [
    "model_input_pipe = Pipeline([\n",
    "    \n",
    "    ('imputer_num', mdi.MeanMedianImputer(imputation_method = 'median', variables = MISSING_COL )), \n",
    "    \n",
    "    ('onehot_encoder', ce.OneHotEncoder(top_categories=None,\n",
    "                                        variables= ONE_HOT_COLS,\n",
    "                                        drop_last=True)),\n",
    "    \n",
    "    ('normalisation', StandardScaler())\n",
    "    \n",
    "    # ('clf', LogisticRegression(penalty,random_state = 786))\n",
    "])"
   ]
  },
  {
   "cell_type": "code",
   "execution_count": 27,
   "metadata": {},
   "outputs": [],
   "source": [
    "X_train_trf = model_input_pipe.fit_transform(X_train)"
   ]
  },
  {
   "cell_type": "code",
   "execution_count": 31,
   "metadata": {},
   "outputs": [
    {
     "data": {
      "text/plain": [
       "array([[-0.13723333, -0.34844439,  0.15699084, ...,  1.76218543,\n",
       "        -0.74815524, -0.58714994],\n",
       "       [-0.22828715, -0.34844439,  0.24685535, ...,  1.76218543,\n",
       "        -0.74815524, -0.58714994],\n",
       "       [-0.41039479, -0.34844439, -0.38219622, ..., -0.56747717,\n",
       "         1.33662099, -0.58714994],\n",
       "       ...,\n",
       "       [ 0.4090896 , -0.34844439,  0.87590693, ...,  1.76218543,\n",
       "        -0.74815524, -0.58714994],\n",
       "       [ 0.13592813, -0.34844439,  0.60631339, ..., -0.56747717,\n",
       "        -0.74815524, -0.58714994],\n",
       "       [-1.13882535, -0.34844439, -0.83151878, ..., -0.56747717,\n",
       "         1.33662099, -0.58714994]])"
      ]
     },
     "execution_count": 31,
     "metadata": {},
     "output_type": "execute_result"
    }
   ],
   "source": [
    "X_train_trf"
   ]
  },
  {
   "cell_type": "markdown",
   "metadata": {},
   "source": [
    "#### Fitting the pipeline"
   ]
  },
  {
   "cell_type": "code",
   "execution_count": 32,
   "metadata": {
    "scrolled": false
   },
   "outputs": [],
   "source": [
    "with mlflow.start_run():\n",
    "\n",
    "    mlflow.set_tag(\"developer\", \"tanmoy\")\n",
    "\n",
    "    penalty = 'l2'\n",
    "    logreg = LogisticRegression(penalty= penalty)\n",
    "    logreg.fit(X_train_trf, y_train)\n",
    "\n",
    "    X_test_trf = model_input_pipe.transform(X_test)\n",
    "    y_pred = logreg.predict(X_test_trf)\n",
    "\n",
    "    round(accuracy_score(y_test, y_pred)*100,2)\n",
    "    confusion_matrix(y_test, y_pred)\n",
    "    classification_report(y_test, y_pred)"
   ]
  },
  {
   "cell_type": "code",
   "execution_count": null,
   "metadata": {},
   "outputs": [],
   "source": []
  }
 ],
 "metadata": {
  "kernelspec": {
   "display_name": "Persistency-1bw1YpJo",
   "language": "python",
   "name": "python3"
  },
  "language_info": {
   "codemirror_mode": {
    "name": "ipython",
    "version": 3
   },
   "file_extension": ".py",
   "mimetype": "text/x-python",
   "name": "python",
   "nbconvert_exporter": "python",
   "pygments_lexer": "ipython3",
   "version": "3.8.8 (tags/v3.8.8:024d805, Feb 19 2021, 13:18:16) [MSC v.1928 64 bit (AMD64)]"
  },
  "vscode": {
   "interpreter": {
    "hash": "1e30edc846a700ed52d786cf8a77501bf87711068f2d1ddfcfe069da441799cb"
   }
  }
 },
 "nbformat": 4,
 "nbformat_minor": 2
}
